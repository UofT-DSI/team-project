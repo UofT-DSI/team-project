{
 "cells": [
  {
   "cell_type": "code",
   "execution_count": 3,
   "metadata": {},
   "outputs": [],
   "source": [
    "import pandas as pd\n",
    "\n",
    "# Specify the path of the input CSV file\n",
    "input_file_path = \"/Users/melihcanalan/Downloads/archive (1)/credit_record.csv\"\n",
    "\n",
    "# Read the input CSV file into a pandas DataFrame\n",
    "df = pd.read_csv(input_file_path)\n",
    "\n",
    "# Select the first 1000 rows from the DataFrame\n",
    "df_first_1000 = df.head(1000)\n",
    "\n",
    "# Specify the path of the output CSV file\n",
    "output_file_path = \"/Users/melihcanalan/Downloads/trimmed_credit_record.csv\"\n",
    "\n",
    "# Write the selected rows to the output CSV file\n",
    "df_first_1000.to_csv(output_file_path, index=False)"
   ]
  }
 ],
 "metadata": {
  "kernelspec": {
   "display_name": "dsi_participant",
   "language": "python",
   "name": "python3"
  },
  "language_info": {
   "codemirror_mode": {
    "name": "ipython",
    "version": 3
   },
   "file_extension": ".py",
   "mimetype": "text/x-python",
   "name": "python",
   "nbconvert_exporter": "python",
   "pygments_lexer": "ipython3",
   "version": "3.9.18"
  }
 },
 "nbformat": 4,
 "nbformat_minor": 2
}
