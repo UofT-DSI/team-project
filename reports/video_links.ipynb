{
 "cells": [
  {
   "cell_type": "markdown",
   "metadata": {},
   "source": [
    "# Team Project 1 - Video Links\n",
    "\n",
    "* Melih Can Alan - https://youtu.be/hgoaU8LT5n4"
   ]
  }
 ],
 "metadata": {
  "language_info": {
   "name": "python"
  }
 },
 "nbformat": 4,
 "nbformat_minor": 2
}
